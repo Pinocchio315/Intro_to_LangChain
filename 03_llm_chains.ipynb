{
 "cells": [
  {
   "cell_type": "markdown",
   "metadata": {},
   "source": [
    "## Setup environments"
   ]
  },
  {
   "cell_type": "code",
   "execution_count": 1,
   "metadata": {},
   "outputs": [],
   "source": [
    "import os\n",
    "\n",
    "from openai import OpenAI\n",
    "from dotenv import find_dotenv, load_dotenv\n",
    "\n",
    "load_dotenv(find_dotenv())\n",
    "\n",
    "client = OpenAI(\n",
    "    api_key=os.getenv(\"OPENAI_API_KEY\"),\n",
    ")"
   ]
  },
  {
   "cell_type": "code",
   "execution_count": 6,
   "metadata": {},
   "outputs": [],
   "source": [
    "from langchain_openai import ChatOpenAI\n",
    "from langchain_core.prompts import PromptTemplate\n",
    "\n",
    "llm_model = 'gpt-4o-mini'\n",
    "chat_model = ChatOpenAI(temperature=0.0, model=llm_model)"
   ]
  },
  {
   "cell_type": "markdown",
   "metadata": {},
   "source": [
    "## Simple Chain"
   ]
  },
  {
   "cell_type": "code",
   "execution_count": null,
   "metadata": {},
   "outputs": [
    {
     "name": "stdout",
     "output_type": "stream",
     "text": [
      "In Korean, \"good morning\" is said as \"안녕하세요\" (annyeonghaseyo). This is a common greeting used throughout the day, but it can also be used specifically in the morning. If you want to be more formal, you can say \"안녕하십니까\" (annyeonghasimnikka).\n"
     ]
    }
   ],
   "source": [
    "prompt = PromptTemplate(\n",
    "    input_variables=[\"language\"],\n",
    "    template=\"How do you say good morning in {language}?\"\n",
    ")\n",
    "\n",
    "# chain = LLMChain(llm=chat_model, prompt=prompt)\n",
    "chain = prompt | chat_model\n",
    "response = chain.invoke(input={\"language\": \"Korean\"}).content\n",
    "print(response)"
   ]
  },
  {
   "cell_type": "markdown",
   "metadata": {},
   "source": [
    "## Simple Sequential Chain"
   ]
  },
  {
   "cell_type": "code",
   "execution_count": null,
   "metadata": {},
   "outputs": [],
   "source": [
    "from langchain.chains import LLMChain, SequentialChain\n",
    "\n",
    "story_template = \"\"\" \n",
    "동화작가로서 지역 {location}과 주인공 이름 {name}을 이용해서\n",
    "간단하고 짧은 (90개 단어 정도) 자장가를 하나 작성해줘.\n",
    "\"\"\"\n",
    "prompt_story = PromptTemplate(input_variables=[\"location\", \"name\"], template=story_template)\n",
    "chain_story = LLMChain(prompt=prompt_story, llm=chat_model, output_key = \"story\")"
   ]
  },
  {
   "cell_type": "code",
   "execution_count": 41,
   "metadata": {},
   "outputs": [
    {
     "name": "stdout",
     "output_type": "stream",
     "text": [
      "포항의 바다, 달빛 아래  \n",
      "홍길동이 잠이 들어요.  \n",
      "파도 소리, 부드러운 노래,  \n",
      "꿈속에서 모험을 해요.  \n",
      "\n",
      "별빛이 반짝, 하늘에 춤추고,  \n",
      "홍길동의 미소가 빛나요.  \n",
      "바람이 속삭여, \"잘 자요, 친구!\"  \n",
      "포항의 밤, 평화롭게 흐르죠.  \n",
      "\n",
      "꿈나라로 떠나는 길,  \n",
      "사랑과 행복 가득해요.  \n",
      "홍길동아, 편안히 자렴,  \n",
      "내일은 또 다른 날이야.\n"
     ]
    }
   ],
   "source": [
    "story = chain_story.invoke(input={\"location\": \"포항\", \"name\": \"홍길동\"})\n",
    "print(story['story'])"
   ]
  },
  {
   "cell_type": "code",
   "execution_count": null,
   "metadata": {},
   "outputs": [],
   "source": [
    "translate_template = \"\"\"\n",
    "다음과 같은 자장가 {story}를 언어 {language}로 번역해줘.\n",
    "번역할 때 어린이들이 좋아할 만한 단어들을 사용해야 하는 것을 잊지 말구.\n",
    "\n",
    "번역:\n",
    "\"\"\"\n",
    "prompt_translate = PromptTemplate(input_variables=[\"story\", \"language\"], template=translate_template)\n",
    "chain_translate = LLMChain(prompt=prompt_translate, llm=chat_model, output_key=\"translated\")"
   ]
  },
  {
   "cell_type": "code",
   "execution_count": 42,
   "metadata": {},
   "outputs": [
    {
     "data": {
      "text/plain": [
       "'Here’s a gentle lullaby translated into English, using words that children would enjoy:\\n\\n---\\n\\n{\\'location\\': \\'Pohang\\', \\'name\\': \\'Hong Gil-dong\\', \\'story\\': \\'In the sea of Pohang, under the moonlight,  \\\\nHong Gil-dong drifts off to sleep.  \\\\nThe sound of waves, a soft, sweet song,  \\\\nIn his dreams, adventures go on and on.  \\\\n\\\\nStars are twinkling, dancing in the sky,  \\\\nHong Gil-dong’s smile shines bright and high.  \\\\nThe wind whispers softly, \"Goodnight, my friend!\"  \\\\nIn the night of Pohang, peace flows without end.  \\\\n\\\\nOn the path to dreamland,  \\\\nFilled with love and happiness so grand.  \\\\nSleep tight, dear Hong Gil-dong,  \\\\nTomorrow brings another day, bright and strong.\\'}'"
      ]
     },
     "execution_count": 42,
     "metadata": {},
     "output_type": "execute_result"
    }
   ],
   "source": [
    "chain_translate.invoke(input={\"story\": story, \"language\": \"영어\"})[\"translated\"]"
   ]
  },
  {
   "cell_type": "code",
   "execution_count": 43,
   "metadata": {},
   "outputs": [
    {
     "name": "stdout",
     "output_type": "stream",
     "text": [
      "Here’s a gentle lullaby translation that uses child-friendly language:\n",
      "\n",
      "---\n",
      "\n",
      "In Pohang's sea, under the moonlight,  \n",
      "Hong Gil-dong drifts off to dreamland bright.  \n",
      "Waves are singing, the wind's a tune,  \n",
      "Stars are twinkling, wrapping hearts like a cocoon.  \n",
      "\n",
      "Little fish are dancing, oh so free,  \n",
      "Clouds in the sky join in harmony.  \n",
      "Close your eyes, dear Hong Gil-dong,  \n",
      "Dream sweet dreams, where you belong.  \n",
      "\n",
      "Pohang's night, a peaceful time,  \n",
      "Filled with love, oh so sublime.  \n",
      "Snuggled in Mommy's warm embrace,  \n",
      "Dream happy dreams, in this cozy place.  \n",
      "\n",
      "--- \n",
      "\n",
      "I hope this captures the essence of the original while being appealing to children!\n"
     ]
    }
   ],
   "source": [
    "overall_chain = SequentialChain(\n",
    "    chains=[chain_story, chain_translate],\n",
    "    input_variables=[\"location\", \"name\", \"language\"],  # Initial inputs\n",
    "    output_variables=[\"translated\"]  # Final output expected from SequentialChain\n",
    ")\n",
    "\n",
    "response = overall_chain.invoke(input={\n",
    "    \"location\": \"포항\",\n",
    "    \"name\": \"홍길동\",\n",
    "    \"language\": \"영어\"\n",
    "})\n",
    "\n",
    "print(response['translated'])"
   ]
  },
  {
   "cell_type": "code",
   "execution_count": null,
   "metadata": {},
   "outputs": [],
   "source": []
  }
 ],
 "metadata": {
  "kernelspec": {
   "display_name": ".langchain_venv",
   "language": "python",
   "name": "python3"
  },
  "language_info": {
   "codemirror_mode": {
    "name": "ipython",
    "version": 3
   },
   "file_extension": ".py",
   "mimetype": "text/x-python",
   "name": "python",
   "nbconvert_exporter": "python",
   "pygments_lexer": "ipython3",
   "version": "3.12.5"
  }
 },
 "nbformat": 4,
 "nbformat_minor": 2
}
