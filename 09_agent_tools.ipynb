{
 "cells": [
  {
   "cell_type": "code",
   "execution_count": 46,
   "metadata": {},
   "outputs": [],
   "source": [
    "import os\n",
    "\n",
    "from openai import OpenAI\n",
    "from dotenv import find_dotenv, load_dotenv\n",
    "\n",
    "load_dotenv(find_dotenv())\n",
    "client = OpenAI(\n",
    "    api_key=os.getenv(\"OPENAI_API_KEY\"),\n",
    ")\n",
    "\n",
    "from langchain_openai import ChatOpenAI\n",
    "llm_model = 'gpt-4o-mini'\n",
    "chat_model = ChatOpenAI(temperature=0, model=llm_model)"
   ]
  },
  {
   "cell_type": "code",
   "execution_count": null,
   "metadata": {},
   "outputs": [
    {
     "data": {
      "text/plain": [
       "'10.761171606099687\\n'"
      ]
     },
     "execution_count": 34,
     "metadata": {},
     "output_type": "execute_result"
    }
   ],
   "source": [
    "from langchain_experimental.utilities import PythonREPL # tool로 사용하면 에러가 나옴.\n",
    "python_repl = PythonREPL()\n",
    "python_repl.run(\"print(3.1**2.1)\")"
   ]
  },
  {
   "cell_type": "code",
   "execution_count": 44,
   "metadata": {},
   "outputs": [
    {
     "name": "stdout",
     "output_type": "stream",
     "text": [
      "작성된 코드:\n",
      "```python\n",
      "fibonacci = [0, 1]\n",
      "for i in range(2, 10):\n",
      "    fibonacci.append(fibonacci[i-1] + fibonacci[i-2])\n",
      "print(fibonacci)\n",
      "```\n",
      "실행 결과:\n",
      "[0, 1, 1, 2, 3, 5, 8, 13, 21, 34]\n",
      "\n"
     ]
    }
   ],
   "source": [
    "from langchain_core.prompts import ChatPromptTemplate\n",
    "from langchain_core.output_parsers import StrOutputParser\n",
    "from langchain_core.runnables import RunnableLambda\n",
    "from langchain_experimental.tools import PythonREPLTool\n",
    "\n",
    "python_tool = PythonREPLTool()\n",
    "\n",
    "\n",
    "def print_and_execute(code):\n",
    "    print(\"작성된 코드:\")\n",
    "    print(code)\n",
    "    print(\"실행 결과:\")\n",
    "    return python_tool.invoke(code)\n",
    "\n",
    "# 파이썬 코드를 작성하도록 요청하는 프롬프트\n",
    "prompt = ChatPromptTemplate.from_messages(\n",
    "    [\n",
    "        (\n",
    "            \"system\",\n",
    "            \"\"\"\n",
    "            너는 파이썬 프로그래머이며 초절정 고수야. 짧고 간결하고 훌륭한 코드를 작성해줘.\n",
    "            코드를 작성할 때 코드에 대한 설명, 주석 등 불필요한 거 다 필요없고 오직 코드만 출력해줘.\n",
    "            \"\"\",\n",
    "        ),\n",
    "        (\"human\", \"{input}\"),\n",
    "    ]\n",
    ")\n",
    "\n",
    "# 프롬프트와 LLM 모델을 사용하여 체인 생성\n",
    "chain = prompt | chat_model | StrOutputParser() | RunnableLambda(print_and_execute)\n",
    "\n",
    "# 결과 출력\n",
    "print(chain.invoke(\"피보나치 수열의 10번째까지 수들을 리스트 형태로 출력하는 코드를 작성해줘.\"))"
   ]
  },
  {
   "cell_type": "code",
   "execution_count": 43,
   "metadata": {},
   "outputs": [
    {
     "data": {
      "text/plain": [
       "[{'title': '비상계엄: 과거 역사 굴곡 겪었던 세대부터 MZ까지 이들이 보는 2024 ...',\n",
       "  'link': 'https://www.bbc.com/korean/articles/c623dwznlj4o',\n",
       "  'snippet': '3 days ago ... 3일 밤 급작스러운 윤석열 대통령의 비상계엄 선포에 한국 시민들은 혼란스러운 시간을 보냈다. 늦은 밤 뉴스를 보다 놀라 잠을 제대로 자지 못했다는\\xa0...'},\n",
       " {'title': 'VOA 한국어 - YouTube',\n",
       "  'link': 'https://www.youtube.com/@VOAKorea',\n",
       "  'snippet': \"긴장감 속 '비상계엄' 주시 - 2024년 12월 4일. VOA 한국어. 9.3K views. 3 days ago ... [VOA 뉴스] '한국 민주 회복력' 신뢰…'정치 문제 해결' 잘할 것. 621 views.\"},\n",
       " {'title': '윤석열 대통령이 갑작스럽게 비상계엄을 선포한 이유 - BBC News ...',\n",
       "  'link': 'https://www.bbc.com/korean/articles/c75w6rn5kw0o',\n",
       "  'snippet': '3 days ago ... 1987년 이후 초유 사태. 2024년 12월 4일. 한국 대통령이 계엄령을 선포한 ... TOP 뉴스. 1. 윤석열 대통령은 왜 갑작스럽게 비상계엄을 선포했을까.'},\n",
       " {'title': '북미 한국학연구소장들 “윤석열 대통령 계엄선포 규탄… 한국 시민과 ...',\n",
       "  'link': 'https://www.voakorea.com/a/7889327.html',\n",
       "  'snippet': '2 days ago ... 하버드, 스탠퍼드, 조지워싱턴 등 북미 13개 대학의 한국학연구소장들이 4일 성명을 내고 “2024년 12월 3일 오후 10시 24분, 한국 윤석열 대통령은 계엄을\\xa0...'},\n",
       " {'title': '윤석열, 스캔들에 휩싸였다 계엄령까지 선포한 한국의 대통령 - BBC ...',\n",
       "  'link': 'https://www.bbc.com/korean/articles/cdekn42885ro',\n",
       "  'snippet': '2 days ago ... 이미 국회의원들은 탄핵을 추진하기 시작했다. 윤석열 대통령은 왜 갑작스럽게 비상계엄을 선포했을까 2024년 12월 4일. 비상계엄 선포\\xa0...'}]"
      ]
     },
     "execution_count": 43,
     "metadata": {},
     "output_type": "execute_result"
    }
   ],
   "source": [
    "from langchain_core.tools import Tool\n",
    "from langchain_google_community import GoogleSearchAPIWrapper\n",
    "\n",
    "search = GoogleSearchAPIWrapper()\n",
    "def top5_results(query):\n",
    "    return search.results(query, 5)\n",
    "\n",
    "\n",
    "tool = Tool(\n",
    "    name=\"Google Search Snippets\",\n",
    "    description=\"Search Google for recent results.\",\n",
    "    func=top5_results,\n",
    ")\n",
    "\n",
    "tool.run(\"2024년 한국 계엄령 관련 뉴스\")"
   ]
  },
  {
   "cell_type": "code",
   "execution_count": 49,
   "metadata": {},
   "outputs": [
    {
     "data": {
      "text/plain": [
       "[{'url': 'https://blog.naver.com/PostView.naver?blogId=jkim0815&logNo=223681764179',\n",
       "  'content': '2024년 12월 4일 뉴스 검색 ... (서울=연합뉴스) 김승욱 기자 = 비상계엄 해제 이후 윤석열 대통령의 첫 공개 일정이었던 4일 오전 마약류 대응상황 점검회의가 순연됐다. ... 주한 美대사 \"계엄령에 놀라…한국 민주주의 회복력에 고무돼\"'},\n",
       " {'url': 'https://blog.naver.com/PostView.naver?blogId=g1goon&logNo=223685341000',\n",
       "  'content': '[2024.12.07] 12.3 계엄령에 대한 소고 ... 심지어 2024년 승리한 대선 역시도 부정선거가 있었다고 주장했다. ... 〈자료사진=연합뉴스〉 비상계엄 당시 중앙선거관리위원회에 계엄군이 대거 투입된 것을 두고 김용현 전 국방부 장관은 \"부정선거 의혹을 수사하려 했다'},\n",
       " {'url': 'https://in.naver.com/angelina/contents/internal/765698267976192',\n",
       "  'content': '윤석열 비상계엄령에 . ... 국민의 안전을 지키기 위해 2024년 12월 3일 23:00부로 대한민국 전역에 다음 사항을 포고합니다. 1. 국회와 지방의회, 정당의 활동과 정치적 결사, 집회, 시위 등 일체의 정치활동을 금한다. ... 가짜뉴스, 여론조작, 허위선동을 금한다.'},\n",
       " {'url': 'https://m.blog.naver.com/moonjji63/223681909262',\n",
       "  'content': \"2024년 12월 4일 부동산 경제 뉴스. ... lh '최근 주거 이슈에 대한 국민인식' 연구 국민 80%, 주거 불평등 심각해 인식 lh, 주거 불평등 지수 개발 평생 집을 사지 못할 것이라고 지레 포기하는 사람이 10명 중 4명에 달하는 것으로 나타났다. ... 尹계엄령에…환율 1.66%\"},\n",
       " {'url': 'https://m.blog.naver.com/youneedtochill/223681749496',\n",
       "  'content': '2024년 12월 3일, 12월 4일 윤석열 비상계엄 선포, 비상계엄 상황 소식 실시간 업데이트 비상 계엄 타임라인 ... 대통령 비상계엄 선포는 위헌, 내란죄 해당 판단 03시 27분 경. 윤석열 탄핵 논의에 대한 의견 조율'}]"
      ]
     },
     "execution_count": 49,
     "metadata": {},
     "output_type": "execute_result"
    }
   ],
   "source": [
    "from langchain_community.tools import TavilySearchResults\n",
    "\n",
    "tool = TavilySearchResults(\n",
    "    max_results=5,\n",
    "    search_depth=\"advanced\",\n",
    "    include_answer=True,\n",
    "    include_raw_content=True,\n",
    "    include_images=False,\n",
    "    include_domains=[\"naver.com\"],\n",
    "    # exclude_domains=[...],\n",
    "    # name=\"...\",            # overwrite default tool name\n",
    "    # description=\"...\",     # overwrite default tool description\n",
    "    # args_schema=...,       # overwrite default args_schema: BaseModel\n",
    ")\n",
    "\n",
    "tool.invoke({\"query\": \"2024년 한국 비상계엄령에 대한 뉴스\"})"
   ]
  },
  {
   "cell_type": "code",
   "execution_count": null,
   "metadata": {},
   "outputs": [],
   "source": []
  }
 ],
 "metadata": {
  "kernelspec": {
   "display_name": ".langchain_venv",
   "language": "python",
   "name": "python3"
  },
  "language_info": {
   "codemirror_mode": {
    "name": "ipython",
    "version": 3
   },
   "file_extension": ".py",
   "mimetype": "text/x-python",
   "name": "python",
   "nbconvert_exporter": "python",
   "pygments_lexer": "ipython3",
   "version": "3.12.5"
  }
 },
 "nbformat": 4,
 "nbformat_minor": 2
}
