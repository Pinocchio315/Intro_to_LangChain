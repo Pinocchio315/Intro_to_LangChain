{
 "cells": [
  {
   "cell_type": "code",
   "execution_count": 3,
   "metadata": {},
   "outputs": [],
   "source": [
    "import os\n",
    "\n",
    "from openai import OpenAI\n",
    "from dotenv import find_dotenv, load_dotenv\n",
    "\n",
    "load_dotenv(find_dotenv())\n",
    "client = OpenAI(\n",
    "    api_key=os.getenv(\"OPENAI_API_KEY\"),\n",
    ")\n",
    "\n",
    "from langchain_openai import ChatOpenAI\n",
    "llm_model = 'gpt-4o-mini'\n",
    "chat_model = ChatOpenAI(temperature=0, model=llm_model)\n",
    "\n",
    "from typing import Annotated, TypedDict\n",
    "from langgraph.graph import StateGraph, START, END\n",
    "from langgraph.graph.message import add_messages\n",
    "\n",
    "class State(TypedDict):\n",
    "    messages: Annotated[list, add_messages]\n",
    "\n",
    "graph_builder = StateGraph(State)"
   ]
  },
  {
   "cell_type": "markdown",
   "metadata": {},
   "source": [
    "### TavilySearch Tool"
   ]
  },
  {
   "cell_type": "code",
   "execution_count": 9,
   "metadata": {},
   "outputs": [
    {
     "name": "stdout",
     "output_type": "stream",
     "text": [
      "[{'url': 'https://ko.wikipedia.org/wiki/2024년_대한민국_비상계엄', 'content': '2024년 대한민국 비상계엄 편집 2024년 대한민국 비상계엄 날짜  2024년 12월 3일 2024년 대한민국 비상계엄은 2024년 12월 3일 오후 10시 30분경 대한민국의 윤석열 정부가 선포한 비상계엄이다. 2024년 12월 3일 윤석열은 계엄령을 선포했다. ↑ 이승준 (2024년 12월 3일). ↑ 이승준 (2024년 8월 26일). ↑ 이승준 (2024년 8월 26일). ↑ 가 나 손우성; 이보라 (2024년 9월 10일). ↑ 신수아 (2024년 9월 5일). ↑ 김민형 (2024년 9월 5일). ↑ 박서연 (2024년 9월 4일). ↑ 박재령 (2024년 9월 3일). ↑ 2024-12-03, 유새슬; 박순봉 (2024년 12월 3일). 2024년 12월 3일. ↑ 유정인 (2024년 12월 3일). ↑ 박용하; 신주영 (2024년 12월 3일). ↑ 고한솔 (2024년 12월 3일). ↑ 고한솔 (2024년 12월 3일). ↑ 김민형 (2024년 12월 3일). 이 문서는 2024년 12월 4일 (수) 00:22에 마지막으로 편집되었습니다.'}, {'url': 'https://www.bbc.com/korean/articles/c623dwznlj4o', 'content': '비상계엄: 과거 역사 굴곡 겪었던 세대부터 MZ까지 이들이 보는 2024년 계엄령 - BBC News 코리아 서울에서 택시 기사를 하고 있는 남성 안채순(70) 씨는 30대 시절, 윤 대통령이 비상계엄 직전의 마지막 비상 계엄령 선포(1979년)와 이후 이어졌던 5.18 광주 사태(1980년)를 떠올렸다. 42세 여성 이한의(가명) 씨는 \"오래전에 있었던 우리나라에 있었던 그런 일들이 떠오르면서 이게 지금 일어났었다는 것이 영화를 보는 것 같은 느낌이 들었다\"고 했다. 이 씨는 주변 또래 친구들의 반응에 대해선 \"워낙 정치적으로 어지러운 지금 시대를 살아가고 있는 게 맞는 것 같고 많은 친구가 좀 혼란스러워한다\"고 했다. 사진 설명, 4일 전역한 김민우 씨는 \"(계엄령 소식에) 오늘 전역 못하는 줄 알았다\"고 했다 민 씨는 \"불시 검문 체포 있을 거란 소식을 듣고 우선 집에 온 후 4시 정도에 왔다\"며 \"무섭기도 했는데 뉴스 보고 국회에서 국회의원들이 모이고 하는 모습을 보면서 긴장이 풀린 느낌을 받았다\"고 했다.'}]\n"
     ]
    }
   ],
   "source": [
    "from langchain_community.tools import TavilySearchResults\n",
    "\n",
    "# create tools\n",
    "tool = TavilySearchResults(max_results=2)\n",
    "tools = [tool]\n",
    "result = tool.invoke({\"query\": \"2024년 한국 비상계엄령\"})\n",
    "print(result)\n",
    "\n",
    "model_with_tools = chat_model.bind_tools(tools)"
   ]
  },
  {
   "cell_type": "code",
   "execution_count": 12,
   "metadata": {},
   "outputs": [],
   "source": [
    "from langgraph.prebuilt import ToolNode, tools_condition\n",
    "\n",
    "graph_builder = StateGraph(State)\n",
    "\n",
    "def chatbot(state: State):\n",
    "    print(state[\"messages\"])\n",
    "    return {\"messages\": [model_with_tools.invoke(state[\"messages\"])]}\n",
    "\n",
    "# instantiate the ToolNode with the tools\n",
    "tool_node = ToolNode(tools=[tool])\n",
    "graph_builder.add_node(\"tools\", tool_node)  # Add the node to the graph\n",
    "\n",
    "# add chatbot\n",
    "graph_builder.add_node(\"chatbot\", chatbot)\n",
    "\n",
    "# The `tools_condition` function returns \"tools\" if the chatbot asks to use a tool, and \"__end__\" if\n",
    "# it is fine directly responding. This conditional routing defines the main agent loop.\n",
    "graph_builder.add_conditional_edges(\n",
    "    \"chatbot\",\n",
    "    tools_condition,\n",
    ")\n",
    "graph_builder.add_edge(\"tools\", \"chatbot\")\n",
    "graph_builder.add_edge(START, \"chatbot\")\n",
    "\n",
    "# Compile the graph\n",
    "graph = graph_builder.compile()"
   ]
  },
  {
   "cell_type": "code",
   "execution_count": 13,
   "metadata": {},
   "outputs": [
    {
     "data": {
      "image/png": "[encoded data removed]",
      "text/plain": [
       "<IPython.core.display.Image object>"
      ]
     },
     "metadata": {},
     "output_type": "display_data"
    }
   ],
   "source": [
    "from IPython.display import Image, display\n",
    "\n",
    "try:\n",
    "    display(Image(graph.get_graph().draw_mermaid_png()))\n",
    "except Exception:\n",
    "    # This requires some extra dependencies and is optional\n",
    "    pass"
   ]
  },
  {
   "cell_type": "code",
   "execution_count": 14,
   "metadata": {},
   "outputs": [
    {
     "name": "stdout",
     "output_type": "stream",
     "text": [
      "[HumanMessage(content='안녕, 내 이름은 피노키오야', additional_kwargs={}, response_metadata={}, id='f5cc0d74-84e2-40ac-aa2b-580356537bd6')]\n",
      "Assistant: 안녕하세요, 피노키오! 어떻게 도와드릴까요?\n",
      "[HumanMessage(content='2024년 한국에서 일어난 비상계엄령에 대해 알려줘', additional_kwargs={}, response_metadata={}, id='70757813-619b-46f6-8051-7d468c7826a8')]\n",
      "Assistant: \n",
      "Assistant: [{\"url\": \"https://www.hani.co.kr/arti/politics/bluehouse/1170584.html\", \"content\": \"윤석열 대통령이 3일 밤 긴급 대국민 담화를 발표해 “종북 세력을 척결하고, 자유 헌정질서를 지키기 위해 비상계엄을 선포한다”고 말하고 있다. 대한민국 정부 수립 이후 총 16번의 계엄령이 선포됐고, 이 가운데 비상계엄령은 12번 선포됐다. 가장 최근 비상계엄은 1979년 10·26 사건 이후 다음날 최규하 대통령 권한대행이 내린 것이었다. 가장 최근 선포된 비상 계엄령은 45년 전인 1979년 10월27일 있었다. 계엄은 1공화국 시절인 1948년 10월 여순사건 당시 여수·순천 일대에 선포된 것이 처음이었다. 이후 비상계엄은 한국전쟁 시절(1950년 12월∼1951년 4월)처럼 한반도의 큰 아픔이 있을 때 4·19 혁명(1960년 4월19일∼6월17일)과 같은 시민들의 항쟁이 펼쳐질 때 뒷따랐다. 시민들이 한일수교에 반대한 6·3항쟁(1964년 6∼7월)을 비롯해 1972년 10월유신을 선포(10∼12월)할 때도 비상 계엄을 선포했다. 또 1979년 부마민주항쟁에도 비상계엄(10월)을 선포해 맞섰다. [속보] 계엄령에 원화 가치 폭락…원-달러 환율 1440원 돌파 [속보] 계엄령에 원화 가치 폭락…원-달러 환율 1440원 돌파  등록·발행일자:2011년 7월 19일\"}, {\"url\": \"https://www.bbc.com/korean/articles/c75w6rn5kw0o\", \"content\": \"윤석열 대통령이 갑작스럽게 비상계엄을 선포한 이유 - BBC News 코리아 사진 설명, 윤석열 대통령이 비상계엄을 선포한 이후 국회 정문을 지키고 있는 경찰들 점점 커지는 정치적 압박 속에서 한국 윤석열 대통령은 3일 밤 한국 민주주의 역사상 약 50년 만에 처음으로 비상계엄을 선포했으나, 6시간만에 계엄 해제를 선언했다. 사진 설명, 국회는 윤 대통령의 비상계엄 선포 이후 몇 시간 만에 해당 조치를 불법으로 간주하고 비상계엄 해제 요구 결의안을 통과시켰다 사진 설명, 4일 새벽 국회의 비상계엄 해제 요구 결의안 가결 이후, 더불어민주당 이재명 대표는 언론을 상대로 입장을 밝혔다 윤 대통령은 계엄 선포 6시간만에 \\\"어젯밤 11시를 기해 국가의 본질적 기능을 마비시키고 자유민주주의 헌정 질서를 붕괴시키려는 반국가세력에 맞서 결연한 구국의 의지로 비상계엄 선포했다\\\"며 \\\"그러나 국회의 계엄 해제 요구가 있어 계엄 사무에 투입된 군을 철수시켰다\\\"고 말했다.\"}]\n",
      "[HumanMessage(content='2024년 한국에서 일어난 비상계엄령에 대해 알려줘', additional_kwargs={}, response_metadata={}, id='70757813-619b-46f6-8051-7d468c7826a8'), AIMessage(content='', additional_kwargs={'tool_calls': [{'id': 'call_aI51CVwU96qgN3OjRLp1nEhH', 'function': {'arguments': '{\"query\":\"한국에서의비상계엄령,이유,상황,발표일\"}', 'name': 'tavily_search_results_json'}, 'type': 'function'}], 'refusal': None}, response_metadata={'token_usage': {'completion_tokens': 35, 'prompt_tokens': 95, 'total_tokens': 130, 'completion_tokens_details': {'audio_tokens': 0, 'reasoning_tokens': 0, 'accepted_prediction_tokens': 0, 'rejected_prediction_tokens': 0}, 'prompt_tokens_details': {'audio_tokens': 0, 'cached_tokens': 0}}, 'model_name': 'gpt-4o-mini-2024-07-18', 'system_fingerprint': 'fp_62208eb26c', 'finish_reason': 'tool_calls', 'logprobs': None}, id='run-f40c3ad0-174e-4330-ad29-ac0929863d44-0', tool_calls=[{'name': 'tavily_search_results_json', 'args': {'query': '한국에서의비상계엄령,이유,상황,발표일'}, 'id': 'call_aI51CVwU96qgN3OjRLp1nEhH', 'type': 'tool_call'}], usage_metadata={'input_tokens': 95, 'output_tokens': 35, 'total_tokens': 130, 'input_token_details': {'audio': 0, 'cache_read': 0}, 'output_token_details': {'audio': 0, 'reasoning': 0}}), ToolMessage(content='[{\"url\": \"https://www.hani.co.kr/arti/politics/bluehouse/1170584.html\", \"content\": \"윤석열 대통령이 3일 밤 긴급 대국민 담화를 발표해 “종북 세력을 척결하고, 자유 헌정질서를 지키기 위해 비상계엄을 선포한다”고 말하고 있다. 대한민국 정부 수립 이후 총 16번의 계엄령이 선포됐고, 이 가운데 비상계엄령은 12번 선포됐다. 가장 최근 비상계엄은 1979년 10·26 사건 이후 다음날 최규하 대통령 권한대행이 내린 것이었다. 가장 최근 선포된 비상 계엄령은 45년 전인 1979년 10월27일 있었다. 계엄은 1공화국 시절인 1948년 10월 여순사건 당시 여수·순천 일대에 선포된 것이 처음이었다. 이후 비상계엄은 한국전쟁 시절(1950년 12월∼1951년 4월)처럼 한반도의 큰 아픔이 있을 때 4·19 혁명(1960년 4월19일∼6월17일)과 같은 시민들의 항쟁이 펼쳐질 때 뒷따랐다. 시민들이 한일수교에 반대한 6·3항쟁(1964년 6∼7월)을 비롯해 1972년 10월유신을 선포(10∼12월)할 때도 비상 계엄을 선포했다. 또 1979년 부마민주항쟁에도 비상계엄(10월)을 선포해 맞섰다. [속보] 계엄령에 원화 가치 폭락…원-달러 환율 1440원 돌파 [속보] 계엄령에 원화 가치 폭락…원-달러 환율 1440원 돌파  등록·발행일자:2011년 7월 19일\"}, {\"url\": \"https://www.bbc.com/korean/articles/c75w6rn5kw0o\", \"content\": \"윤석열 대통령이 갑작스럽게 비상계엄을 선포한 이유 - BBC News 코리아 사진 설명, 윤석열 대통령이 비상계엄을 선포한 이후 국회 정문을 지키고 있는 경찰들 점점 커지는 정치적 압박 속에서 한국 윤석열 대통령은 3일 밤 한국 민주주의 역사상 약 50년 만에 처음으로 비상계엄을 선포했으나, 6시간만에 계엄 해제를 선언했다. 사진 설명, 국회는 윤 대통령의 비상계엄 선포 이후 몇 시간 만에 해당 조치를 불법으로 간주하고 비상계엄 해제 요구 결의안을 통과시켰다 사진 설명, 4일 새벽 국회의 비상계엄 해제 요구 결의안 가결 이후, 더불어민주당 이재명 대표는 언론을 상대로 입장을 밝혔다 윤 대통령은 계엄 선포 6시간만에 \\\\\"어젯밤 11시를 기해 국가의 본질적 기능을 마비시키고 자유민주주의 헌정 질서를 붕괴시키려는 반국가세력에 맞서 결연한 구국의 의지로 비상계엄 선포했다\\\\\"며 \\\\\"그러나 국회의 계엄 해제 요구가 있어 계엄 사무에 투입된 군을 철수시켰다\\\\\"고 말했다.\"}]', name='tavily_search_results_json', id='7e1da1b8-297a-47e7-858a-c54f92f3da73', tool_call_id='call_aI51CVwU96qgN3OjRLp1nEhH', artifact={'query': '한국에서의비상계엄령,이유,상황,발표일', 'follow_up_questions': None, 'answer': None, 'images': [], 'results': [{'title': '한국현대사 12번 비상 계엄…시민항쟁 막거나 독재 연장 목적', 'url': 'https://www.hani.co.kr/arti/politics/bluehouse/1170584.html', 'content': '윤석열 대통령이 3일 밤 긴급 대국민 담화를 발표해 “종북 세력을 척결하고, 자유 헌정질서를 지키기 위해 비상계엄을 선포한다”고 말하고 있다. 대한민국 정부 수립 이후 총 16번의 계엄령이 선포됐고, 이 가운데 비상계엄령은 12번 선포됐다. 가장 최근 비상계엄은 1979년 10·26 사건 이후 다음날 최규하 대통령 권한대행이 내린 것이었다. 가장 최근 선포된 비상 계엄령은 45년 전인 1979년 10월27일 있었다. 계엄은 1공화국 시절인 1948년 10월 여순사건 당시 여수·순천 일대에 선포된 것이 처음이었다. 이후 비상계엄은 한국전쟁 시절(1950년 12월∼1951년 4월)처럼 한반도의 큰 아픔이 있을 때 4·19 혁명(1960년 4월19일∼6월17일)과 같은 시민들의 항쟁이 펼쳐질 때 뒷따랐다. 시민들이 한일수교에 반대한 6·3항쟁(1964년 6∼7월)을 비롯해 1972년 10월유신을 선포(10∼12월)할 때도 비상 계엄을 선포했다. 또 1979년 부마민주항쟁에도 비상계엄(10월)을 선포해 맞섰다. [속보] 계엄령에 원화 가치 폭락…원-달러 환율 1440원 돌파 [속보] 계엄령에 원화 가치 폭락…원-달러 환율 1440원 돌파  등록·발행일자:2011년 7월 19일', 'score': 0.9980045, 'raw_content': None}, {'title': '윤석열 대통령이 갑작스럽게 비상계엄을 선포한 이유 - BBC News 코리아', 'url': 'https://www.bbc.com/korean/articles/c75w6rn5kw0o', 'content': '윤석열 대통령이 갑작스럽게 비상계엄을 선포한 이유 - BBC News 코리아 사진 설명, 윤석열 대통령이 비상계엄을 선포한 이후 국회 정문을 지키고 있는 경찰들 점점 커지는 정치적 압박 속에서 한국 윤석열 대통령은 3일 밤 한국 민주주의 역사상 약 50년 만에 처음으로 비상계엄을 선포했으나, 6시간만에 계엄 해제를 선언했다. 사진 설명, 국회는 윤 대통령의 비상계엄 선포 이후 몇 시간 만에 해당 조치를 불법으로 간주하고 비상계엄 해제 요구 결의안을 통과시켰다 사진 설명, 4일 새벽 국회의 비상계엄 해제 요구 결의안 가결 이후, 더불어민주당 이재명 대표는 언론을 상대로 입장을 밝혔다 윤 대통령은 계엄 선포 6시간만에 \"어젯밤 11시를 기해 국가의 본질적 기능을 마비시키고 자유민주주의 헌정 질서를 붕괴시키려는 반국가세력에 맞서 결연한 구국의 의지로 비상계엄 선포했다\"며 \"그러나 국회의 계엄 해제 요구가 있어 계엄 사무에 투입된 군을 철수시켰다\"고 말했다.', 'score': 0.99762183, 'raw_content': None}], 'response_time': 1.5})]\n",
      "Assistant: 2024년 3월 3일, 윤석열 대통령은 한국 민주주의 역사상 약 50년 만에 비상계엄을 선포했습니다. 이 조치는 \"종북 세력을 척결하고, 자유 헌정질서를 지키기 위해\" 이루어졌다고 발표했습니다. 그러나 비상계엄은 단 6시간 만에 해제되었습니다. 국회는 이 조치를 불법으로 간주하고 비상계엄 해제 요구 결의안을 통과시켰습니다.\n",
      "\n",
      "비상계엄의 선포는 한국 역사에서 여러 차례 있었으며, 가장 최근의 비상계엄은 1979년 10월 27일에 선포된 것이었습니다. 비상계엄은 주로 국가의 큰 위기 상황에서 선포되며, 시민들의 항쟁이나 정치적 불안정 상황에서 자주 발생했습니다.\n",
      "\n",
      "자세한 내용은 [여기](https://www.hani.co.kr/arti/politics/bluehouse/1170584.html)와 [여기](https://www.bbc.com/korean/articles/c75w6rn5kw0o)에서 확인할 수 있습니다.\n",
      "[HumanMessage(content='너 내 이름을 기억하고 있니?', additional_kwargs={}, response_metadata={}, id='7a2694e9-bd57-4f67-b9c1-42b6822ecaef')]\n",
      "Assistant: 죄송하지만, 저는 사용자 정보를 기억할 수 없습니다. 매번 대화할 때마다 새로운 대화로 시작합니다. 당신의 이름을 알려주시면 그에 맞춰 대화할 수 있습니다!\n",
      "[HumanMessage(content='그래 알겠어', additional_kwargs={}, response_metadata={}, id='51ff9425-12d4-4d75-bbcd-bd097bef4e52')]\n",
      "Assistant: 무엇을 도와드릴까요?\n",
      "Goodbye!\n"
     ]
    }
   ],
   "source": [
    "def stream_graph_updates(user_input: str):\n",
    "    for event in graph.stream({\"messages\": [(\"user\", user_input)]}):\n",
    "        for value in event.values():\n",
    "            print(\"Assistant:\", value[\"messages\"][-1].content)\n",
    "\n",
    "# 챗봇 실행\n",
    "while True:\n",
    "    try:\n",
    "        user_input = input(\"User: \")\n",
    "        if user_input.lower() in [\"quit\", \"exit\", \"q\"]:\n",
    "            print(\"Goodbye!\")\n",
    "            break\n",
    "\n",
    "        stream_graph_updates(user_input)\n",
    "    except:\n",
    "        # fallback if input() is not available\n",
    "        user_input = \"What do you know about LangGraph?\"\n",
    "        print(\"User: \" + user_input)\n",
    "        stream_graph_updates(user_input)\n",
    "        break"
   ]
  },
  {
   "cell_type": "code",
   "execution_count": null,
   "metadata": {},
   "outputs": [],
   "source": [
    "graph_builder = StateGraph(State)\n",
    "\n",
    "graph_builder.add_node(\"tools\", tool_node)  # Add the node to the graph\n",
    "# add chatbot\n",
    "graph_builder.add_node(\"chatbot\", chatbot)\n",
    "\n",
    "\n",
    "def route_tools(\n",
    "    state: State,\n",
    "):\n",
    "    \"\"\"\n",
    "    Use in the conditional_edge to route to the ToolNode if the last message\n",
    "    has tool calls. Otherwise, route to the end.\n",
    "    \"\"\"\n",
    "    if isinstance(state, list):\n",
    "        ai_message = state[-1]\n",
    "    elif messages := state.get(\"messages\", []):\n",
    "        ai_message = messages[-1]\n",
    "    else:\n",
    "        raise ValueError(f\"No messages found in input state to tool_edge: {state}\")\n",
    "    if hasattr(ai_message, \"tool_calls\") and len(ai_message.tool_calls) > 0:\n",
    "        return \"tools\"\n",
    "    return END\n",
    "\n",
    "\n",
    "graph_builder.add_conditional_edges(\n",
    "    \"chatbot\",\n",
    "    route_tools,\n",
    "    # The following dictionary lets you tell the graph to interpret the condition's outputs as a specific node\n",
    "    # It defaults to the identity function, but if you\n",
    "    # want to use a node named something else apart from \"tools\",\n",
    "    # You can update the value of the dictionary to something else\n",
    "    # e.g., \"tools\": \"my_tools\"\n",
    "    {\"tools\": \"tools\", END: END},\n",
    ")\n",
    "\n",
    "graph_builder.add_edge(\"tools\", \"chatbot\")\n",
    "graph_builder.add_edge(START, \"chatbot\")\n",
    "\n",
    "# Compile the graph\n",
    "graph = graph_builder.compile()"
   ]
  },
  {
   "cell_type": "markdown",
   "metadata": {},
   "source": [
    "### Adding Memory to our Agent"
   ]
  },
  {
   "cell_type": "code",
   "execution_count": 15,
   "metadata": {},
   "outputs": [],
   "source": [
    "from langgraph.checkpoint.memory import MemorySaver\n",
    "\n",
    "memory = MemorySaver()"
   ]
  },
  {
   "cell_type": "code",
   "execution_count": 16,
   "metadata": {},
   "outputs": [],
   "source": [
    "graph_builder = StateGraph(State)\n",
    "\n",
    "def chatbot(state: State):\n",
    "    print(state[\"messages\"])\n",
    "    return {\"messages\": [model_with_tools.invoke(state[\"messages\"])]}\n",
    "\n",
    "# instantiate the ToolNode with the tools\n",
    "tool_node = ToolNode(tools=[tool])\n",
    "graph_builder.add_node(\"tools\", tool_node)  # Add the node to the graph\n",
    "\n",
    "# add chatbot\n",
    "graph_builder.add_node(\"chatbot\", chatbot)\n",
    "\n",
    "# The `tools_condition` function returns \"tools\" if the chatbot asks to use a tool, and \"__end__\" if\n",
    "# it is fine directly responding. This conditional routing defines the main agent loop.\n",
    "graph_builder.add_conditional_edges(\n",
    "    \"chatbot\",\n",
    "    tools_condition,\n",
    ")\n",
    "graph_builder.add_edge(\"tools\", \"chatbot\")\n",
    "graph_builder.add_edge(START, \"chatbot\")\n",
    "\n",
    "# Compile the graph\n",
    "graph = graph_builder.compile(checkpointer=memory)"
   ]
  },
  {
   "cell_type": "code",
   "execution_count": 17,
   "metadata": {},
   "outputs": [
    {
     "name": "stdout",
     "output_type": "stream",
     "text": [
      "================================\u001b[1m Human Message \u001b[0m=================================\n",
      "\n",
      "안녕, 내 이름은 피노키오야.\n",
      "[HumanMessage(content='안녕, 내 이름은 피노키오야.', additional_kwargs={}, response_metadata={}, id='031bc726-9513-412a-8d23-5493d095bc06')]\n",
      "==================================\u001b[1m Ai Message \u001b[0m==================================\n",
      "\n",
      "안녕하세요, 피노키오님! 어떻게 도와드릴까요?\n"
     ]
    }
   ],
   "source": [
    "config = {\"configurable\": {\"thread_id\": \"1\"}}\n",
    "\n",
    "user_input = \"안녕, 내 이름은 피노키오야.\"\n",
    "\n",
    "# The config is the **second positional argument** to stream() or invoke()!\n",
    "events = graph.stream(\n",
    "    {\"messages\": [(\"user\", user_input)]}, config, stream_mode=\"values\"\n",
    ")\n",
    "for event in events:\n",
    "    event[\"messages\"][-1].pretty_print()"
   ]
  },
  {
   "cell_type": "code",
   "execution_count": 18,
   "metadata": {},
   "outputs": [
    {
     "name": "stdout",
     "output_type": "stream",
     "text": [
      "================================\u001b[1m Human Message \u001b[0m=================================\n",
      "\n",
      "2024년 한국 비상계엄령에 대해 알려줘\n",
      "[HumanMessage(content='안녕, 내 이름은 피노키오야.', additional_kwargs={}, response_metadata={}, id='031bc726-9513-412a-8d23-5493d095bc06'), AIMessage(content='안녕하세요, 피노키오님! 어떻게 도와드릴까요?', additional_kwargs={'refusal': None}, response_metadata={'token_usage': {'completion_tokens': 17, 'prompt_tokens': 91, 'total_tokens': 108, 'completion_tokens_details': {'audio_tokens': 0, 'reasoning_tokens': 0, 'accepted_prediction_tokens': 0, 'rejected_prediction_tokens': 0}, 'prompt_tokens_details': {'audio_tokens': 0, 'cached_tokens': 0}}, 'model_name': 'gpt-4o-mini-2024-07-18', 'system_fingerprint': 'fp_bba3c8e70b', 'finish_reason': 'stop', 'logprobs': None}, id='run-68e24698-f59c-4e39-a91d-2f9897a732e8-0', usage_metadata={'input_tokens': 91, 'output_tokens': 17, 'total_tokens': 108, 'input_token_details': {'audio': 0, 'cache_read': 0}, 'output_token_details': {'audio': 0, 'reasoning': 0}}), HumanMessage(content='2024년 한국 비상계엄령에 대해 알려줘', additional_kwargs={}, response_metadata={}, id='631802fc-cdd7-4f33-b8fd-6a5fe4e54728')]\n",
      "==================================\u001b[1m Ai Message \u001b[0m==================================\n",
      "Tool Calls:\n",
      "  tavily_search_results_json (call_no1SDGCboHm0UwqqAcGHM7TO)\n",
      " Call ID: call_no1SDGCboHm0UwqqAcGHM7TO\n",
      "  Args:\n",
      "    query: 2024년 한국 비상계엄령\n",
      "=================================\u001b[1m Tool Message \u001b[0m=================================\n",
      "Name: tavily_search_results_json\n",
      "\n",
      "[{\"url\": \"https://ko.wikipedia.org/wiki/2024년_대한민국_비상계엄\", \"content\": \"2024년 대한민국 비상계엄 편집 2024년 대한민국 비상계엄 날짜  2024년 12월 3일 2024년 대한민국 비상계엄은 2024년 12월 3일 오후 10시 30분경 대한민국의 윤석열 정부가 선포한 비상계엄이다. 2024년 12월 3일 윤석열은 계엄령을 선포했다. ↑ 이승준 (2024년 12월 3일). ↑ 이승준 (2024년 8월 26일). ↑ 이승준 (2024년 8월 26일). ↑ 가 나 손우성; 이보라 (2024년 9월 10일). ↑ 신수아 (2024년 9월 5일). ↑ 김민형 (2024년 9월 5일). ↑ 박서연 (2024년 9월 4일). ↑ 박재령 (2024년 9월 3일). ↑ 2024-12-03, 유새슬; 박순봉 (2024년 12월 3일). 2024년 12월 3일. ↑ 유정인 (2024년 12월 3일). ↑ 박용하; 신주영 (2024년 12월 3일). ↑ 고한솔 (2024년 12월 3일). ↑ 고한솔 (2024년 12월 3일). ↑ 김민형 (2024년 12월 3일). 이 문서는 2024년 12월 4일 (수) 00:22에 마지막으로 편집되었습니다.\"}, {\"url\": \"https://namu.wiki/w/윤석열+정부+비상계엄\", \"content\": \"2024년 12월 3일 오후 10시 30분경 윤석열 정부에서 선포한 비상 계엄. 10.26 사건 이후 43년만이며 제6공화국 이래 선포한 최초 계엄령 이다. 윤석열 대통령 은 선포 명분을 ' 대한민국 자유민주주의 의 근간을 흔드는 현 정치 세력 중에서 종북 반국가세력 을 척결하기\"}]\n",
      "[HumanMessage(content='안녕, 내 이름은 피노키오야.', additional_kwargs={}, response_metadata={}, id='031bc726-9513-412a-8d23-5493d095bc06'), AIMessage(content='안녕하세요, 피노키오님! 어떻게 도와드릴까요?', additional_kwargs={'refusal': None}, response_metadata={'token_usage': {'completion_tokens': 17, 'prompt_tokens': 91, 'total_tokens': 108, 'completion_tokens_details': {'audio_tokens': 0, 'reasoning_tokens': 0, 'accepted_prediction_tokens': 0, 'rejected_prediction_tokens': 0}, 'prompt_tokens_details': {'audio_tokens': 0, 'cached_tokens': 0}}, 'model_name': 'gpt-4o-mini-2024-07-18', 'system_fingerprint': 'fp_bba3c8e70b', 'finish_reason': 'stop', 'logprobs': None}, id='run-68e24698-f59c-4e39-a91d-2f9897a732e8-0', usage_metadata={'input_tokens': 91, 'output_tokens': 17, 'total_tokens': 108, 'input_token_details': {'audio': 0, 'cache_read': 0}, 'output_token_details': {'audio': 0, 'reasoning': 0}}), HumanMessage(content='2024년 한국 비상계엄령에 대해 알려줘', additional_kwargs={}, response_metadata={}, id='631802fc-cdd7-4f33-b8fd-6a5fe4e54728'), AIMessage(content='', additional_kwargs={'tool_calls': [{'id': 'call_no1SDGCboHm0UwqqAcGHM7TO', 'function': {'arguments': '{\"query\":\"2024년 한국 비상계엄령\"}', 'name': 'tavily_search_results_json'}, 'type': 'function'}], 'refusal': None}, response_metadata={'token_usage': {'completion_tokens': 26, 'prompt_tokens': 128, 'total_tokens': 154, 'completion_tokens_details': {'audio_tokens': 0, 'reasoning_tokens': 0, 'accepted_prediction_tokens': 0, 'rejected_prediction_tokens': 0}, 'prompt_tokens_details': {'audio_tokens': 0, 'cached_tokens': 0}}, 'model_name': 'gpt-4o-mini-2024-07-18', 'system_fingerprint': 'fp_bba3c8e70b', 'finish_reason': 'tool_calls', 'logprobs': None}, id='run-888a094e-26a0-43a8-9ae0-de2f05788420-0', tool_calls=[{'name': 'tavily_search_results_json', 'args': {'query': '2024년 한국 비상계엄령'}, 'id': 'call_no1SDGCboHm0UwqqAcGHM7TO', 'type': 'tool_call'}], usage_metadata={'input_tokens': 128, 'output_tokens': 26, 'total_tokens': 154, 'input_token_details': {'audio': 0, 'cache_read': 0}, 'output_token_details': {'audio': 0, 'reasoning': 0}}), ToolMessage(content='[{\"url\": \"https://ko.wikipedia.org/wiki/2024년_대한민국_비상계엄\", \"content\": \"2024년 대한민국 비상계엄 편집 2024년 대한민국 비상계엄 날짜  2024년 12월 3일 2024년 대한민국 비상계엄은 2024년 12월 3일 오후 10시 30분경 대한민국의 윤석열 정부가 선포한 비상계엄이다. 2024년 12월 3일 윤석열은 계엄령을 선포했다. ↑ 이승준 (2024년 12월 3일). ↑ 이승준 (2024년 8월 26일). ↑ 이승준 (2024년 8월 26일). ↑ 가 나 손우성; 이보라 (2024년 9월 10일). ↑ 신수아 (2024년 9월 5일). ↑ 김민형 (2024년 9월 5일). ↑ 박서연 (2024년 9월 4일). ↑ 박재령 (2024년 9월 3일). ↑ 2024-12-03, 유새슬; 박순봉 (2024년 12월 3일). 2024년 12월 3일. ↑ 유정인 (2024년 12월 3일). ↑ 박용하; 신주영 (2024년 12월 3일). ↑ 고한솔 (2024년 12월 3일). ↑ 고한솔 (2024년 12월 3일). ↑ 김민형 (2024년 12월 3일). 이 문서는 2024년 12월 4일 (수) 00:22에 마지막으로 편집되었습니다.\"}, {\"url\": \"https://namu.wiki/w/윤석열+정부+비상계엄\", \"content\": \"2024년 12월 3일 오후 10시 30분경 윤석열 정부에서 선포한 비상 계엄. 10.26 사건 이후 43년만이며 제6공화국 이래 선포한 최초 계엄령 이다. 윤석열 대통령 은 선포 명분을 \\' 대한민국 자유민주주의 의 근간을 흔드는 현 정치 세력 중에서 종북 반국가세력 을 척결하기\"}]', name='tavily_search_results_json', id='e5342300-77ce-444f-8c4e-146995b5f335', tool_call_id='call_no1SDGCboHm0UwqqAcGHM7TO', artifact={'query': '2024년 한국 비상계엄령', 'follow_up_questions': None, 'answer': None, 'images': [], 'results': [{'title': '2024년 대한민국 비상계엄 - 위키백과, 우리 모두의 백과사전', 'url': 'https://ko.wikipedia.org/wiki/2024년_대한민국_비상계엄', 'content': '2024년 대한민국 비상계엄 편집 2024년 대한민국 비상계엄 날짜  2024년 12월 3일 2024년 대한민국 비상계엄은 2024년 12월 3일 오후 10시 30분경 대한민국의 윤석열 정부가 선포한 비상계엄이다. 2024년 12월 3일 윤석열은 계엄령을 선포했다. ↑ 이승준 (2024년 12월 3일). ↑ 이승준 (2024년 8월 26일). ↑ 이승준 (2024년 8월 26일). ↑ 가 나 손우성; 이보라 (2024년 9월 10일). ↑ 신수아 (2024년 9월 5일). ↑ 김민형 (2024년 9월 5일). ↑ 박서연 (2024년 9월 4일). ↑ 박재령 (2024년 9월 3일). ↑ 2024-12-03, 유새슬; 박순봉 (2024년 12월 3일). 2024년 12월 3일. ↑ 유정인 (2024년 12월 3일). ↑ 박용하; 신주영 (2024년 12월 3일). ↑ 고한솔 (2024년 12월 3일). ↑ 고한솔 (2024년 12월 3일). ↑ 김민형 (2024년 12월 3일). 이 문서는 2024년 12월 4일 (수) 00:22에 마지막으로 편집되었습니다.', 'score': 0.9996673, 'raw_content': None}, {'title': '윤석열 정부 비상계엄 - 나무위키', 'url': 'https://namu.wiki/w/윤석열+정부+비상계엄', 'content': \"2024년 12월 3일 오후 10시 30분경 윤석열 정부에서 선포한 비상 계엄. 10.26 사건 이후 43년만이며 제6공화국 이래 선포한 최초 계엄령 이다. 윤석열 대통령 은 선포 명분을 ' 대한민국 자유민주주의 의 근간을 흔드는 현 정치 세력 중에서 종북 반국가세력 을 척결하기\", 'score': 0.9992679, 'raw_content': None}], 'response_time': 1.11})]\n",
      "==================================\u001b[1m Ai Message \u001b[0m==================================\n",
      "\n",
      "2024년 한국 비상계엄령은 2024년 12월 3일 오후 10시 30분경 윤석열 정부에 의해 선포되었습니다. 이 계엄령은 10.26 사건 이후 43년 만에 선포된 것이며, 제6공화국 이래 최초의 계엄령입니다. 윤석열 대통령은 이 계엄령의 선포 명분으로 \"대한민국 자유민주주의의 근간을 흔드는 현 정치 세력 중에서 종북 반국가세력을 척결하기 위해\" 필요하다고 밝혔습니다.\n",
      "\n",
      "더 자세한 내용은 [위키백과](https://ko.wikipedia.org/wiki/2024년_대한민국_비상계엄)와 [나무위키](https://namu.wiki/w/윤석열+정부+비상계엄)에서 확인하실 수 있습니다.\n"
     ]
    }
   ],
   "source": [
    "user_input = \"2024년 한국 비상계엄령에 대해 알려줘\"\n",
    "\n",
    "# The config is the **second positional argument** to stream() or invoke()!\n",
    "events = graph.stream(\n",
    "    {\"messages\": [(\"user\", user_input)]}, config, stream_mode=\"values\"\n",
    ")\n",
    "for event in events:\n",
    "    event[\"messages\"][-1].pretty_print()"
   ]
  },
  {
   "cell_type": "code",
   "execution_count": 19,
   "metadata": {},
   "outputs": [
    {
     "name": "stdout",
     "output_type": "stream",
     "text": [
      "================================\u001b[1m Human Message \u001b[0m=================================\n",
      "\n",
      "너 내 이름을 아직 기억하고 있니?\n",
      "[HumanMessage(content='안녕, 내 이름은 피노키오야.', additional_kwargs={}, response_metadata={}, id='031bc726-9513-412a-8d23-5493d095bc06'), AIMessage(content='안녕하세요, 피노키오님! 어떻게 도와드릴까요?', additional_kwargs={'refusal': None}, response_metadata={'token_usage': {'completion_tokens': 17, 'prompt_tokens': 91, 'total_tokens': 108, 'completion_tokens_details': {'audio_tokens': 0, 'reasoning_tokens': 0, 'accepted_prediction_tokens': 0, 'rejected_prediction_tokens': 0}, 'prompt_tokens_details': {'audio_tokens': 0, 'cached_tokens': 0}}, 'model_name': 'gpt-4o-mini-2024-07-18', 'system_fingerprint': 'fp_bba3c8e70b', 'finish_reason': 'stop', 'logprobs': None}, id='run-68e24698-f59c-4e39-a91d-2f9897a732e8-0', usage_metadata={'input_tokens': 91, 'output_tokens': 17, 'total_tokens': 108, 'input_token_details': {'audio': 0, 'cache_read': 0}, 'output_token_details': {'audio': 0, 'reasoning': 0}}), HumanMessage(content='2024년 한국 비상계엄령에 대해 알려줘', additional_kwargs={}, response_metadata={}, id='631802fc-cdd7-4f33-b8fd-6a5fe4e54728'), AIMessage(content='', additional_kwargs={'tool_calls': [{'id': 'call_no1SDGCboHm0UwqqAcGHM7TO', 'function': {'arguments': '{\"query\":\"2024년 한국 비상계엄령\"}', 'name': 'tavily_search_results_json'}, 'type': 'function'}], 'refusal': None}, response_metadata={'token_usage': {'completion_tokens': 26, 'prompt_tokens': 128, 'total_tokens': 154, 'completion_tokens_details': {'audio_tokens': 0, 'reasoning_tokens': 0, 'accepted_prediction_tokens': 0, 'rejected_prediction_tokens': 0}, 'prompt_tokens_details': {'audio_tokens': 0, 'cached_tokens': 0}}, 'model_name': 'gpt-4o-mini-2024-07-18', 'system_fingerprint': 'fp_bba3c8e70b', 'finish_reason': 'tool_calls', 'logprobs': None}, id='run-888a094e-26a0-43a8-9ae0-de2f05788420-0', tool_calls=[{'name': 'tavily_search_results_json', 'args': {'query': '2024년 한국 비상계엄령'}, 'id': 'call_no1SDGCboHm0UwqqAcGHM7TO', 'type': 'tool_call'}], usage_metadata={'input_tokens': 128, 'output_tokens': 26, 'total_tokens': 154, 'input_token_details': {'audio': 0, 'cache_read': 0}, 'output_token_details': {'audio': 0, 'reasoning': 0}}), ToolMessage(content='[{\"url\": \"https://ko.wikipedia.org/wiki/2024년_대한민국_비상계엄\", \"content\": \"2024년 대한민국 비상계엄 편집 2024년 대한민국 비상계엄 날짜  2024년 12월 3일 2024년 대한민국 비상계엄은 2024년 12월 3일 오후 10시 30분경 대한민국의 윤석열 정부가 선포한 비상계엄이다. 2024년 12월 3일 윤석열은 계엄령을 선포했다. ↑ 이승준 (2024년 12월 3일). ↑ 이승준 (2024년 8월 26일). ↑ 이승준 (2024년 8월 26일). ↑ 가 나 손우성; 이보라 (2024년 9월 10일). ↑ 신수아 (2024년 9월 5일). ↑ 김민형 (2024년 9월 5일). ↑ 박서연 (2024년 9월 4일). ↑ 박재령 (2024년 9월 3일). ↑ 2024-12-03, 유새슬; 박순봉 (2024년 12월 3일). 2024년 12월 3일. ↑ 유정인 (2024년 12월 3일). ↑ 박용하; 신주영 (2024년 12월 3일). ↑ 고한솔 (2024년 12월 3일). ↑ 고한솔 (2024년 12월 3일). ↑ 김민형 (2024년 12월 3일). 이 문서는 2024년 12월 4일 (수) 00:22에 마지막으로 편집되었습니다.\"}, {\"url\": \"https://namu.wiki/w/윤석열+정부+비상계엄\", \"content\": \"2024년 12월 3일 오후 10시 30분경 윤석열 정부에서 선포한 비상 계엄. 10.26 사건 이후 43년만이며 제6공화국 이래 선포한 최초 계엄령 이다. 윤석열 대통령 은 선포 명분을 \\' 대한민국 자유민주주의 의 근간을 흔드는 현 정치 세력 중에서 종북 반국가세력 을 척결하기\"}]', name='tavily_search_results_json', id='e5342300-77ce-444f-8c4e-146995b5f335', tool_call_id='call_no1SDGCboHm0UwqqAcGHM7TO', artifact={'query': '2024년 한국 비상계엄령', 'follow_up_questions': None, 'answer': None, 'images': [], 'results': [{'title': '2024년 대한민국 비상계엄 - 위키백과, 우리 모두의 백과사전', 'url': 'https://ko.wikipedia.org/wiki/2024년_대한민국_비상계엄', 'content': '2024년 대한민국 비상계엄 편집 2024년 대한민국 비상계엄 날짜  2024년 12월 3일 2024년 대한민국 비상계엄은 2024년 12월 3일 오후 10시 30분경 대한민국의 윤석열 정부가 선포한 비상계엄이다. 2024년 12월 3일 윤석열은 계엄령을 선포했다. ↑ 이승준 (2024년 12월 3일). ↑ 이승준 (2024년 8월 26일). ↑ 이승준 (2024년 8월 26일). ↑ 가 나 손우성; 이보라 (2024년 9월 10일). ↑ 신수아 (2024년 9월 5일). ↑ 김민형 (2024년 9월 5일). ↑ 박서연 (2024년 9월 4일). ↑ 박재령 (2024년 9월 3일). ↑ 2024-12-03, 유새슬; 박순봉 (2024년 12월 3일). 2024년 12월 3일. ↑ 유정인 (2024년 12월 3일). ↑ 박용하; 신주영 (2024년 12월 3일). ↑ 고한솔 (2024년 12월 3일). ↑ 고한솔 (2024년 12월 3일). ↑ 김민형 (2024년 12월 3일). 이 문서는 2024년 12월 4일 (수) 00:22에 마지막으로 편집되었습니다.', 'score': 0.9996673, 'raw_content': None}, {'title': '윤석열 정부 비상계엄 - 나무위키', 'url': 'https://namu.wiki/w/윤석열+정부+비상계엄', 'content': \"2024년 12월 3일 오후 10시 30분경 윤석열 정부에서 선포한 비상 계엄. 10.26 사건 이후 43년만이며 제6공화국 이래 선포한 최초 계엄령 이다. 윤석열 대통령 은 선포 명분을 ' 대한민국 자유민주주의 의 근간을 흔드는 현 정치 세력 중에서 종북 반국가세력 을 척결하기\", 'score': 0.9992679, 'raw_content': None}], 'response_time': 1.11}), AIMessage(content='2024년 한국 비상계엄령은 2024년 12월 3일 오후 10시 30분경 윤석열 정부에 의해 선포되었습니다. 이 계엄령은 10.26 사건 이후 43년 만에 선포된 것이며, 제6공화국 이래 최초의 계엄령입니다. 윤석열 대통령은 이 계엄령의 선포 명분으로 \"대한민국 자유민주주의의 근간을 흔드는 현 정치 세력 중에서 종북 반국가세력을 척결하기 위해\" 필요하다고 밝혔습니다.\\n\\n더 자세한 내용은 [위키백과](https://ko.wikipedia.org/wiki/2024년_대한민국_비상계엄)와 [나무위키](https://namu.wiki/w/윤석열+정부+비상계엄)에서 확인하실 수 있습니다.', additional_kwargs={'refusal': None}, response_metadata={'token_usage': {'completion_tokens': 192, 'prompt_tokens': 689, 'total_tokens': 881, 'completion_tokens_details': {'audio_tokens': 0, 'reasoning_tokens': 0, 'accepted_prediction_tokens': 0, 'rejected_prediction_tokens': 0}, 'prompt_tokens_details': {'audio_tokens': 0, 'cached_tokens': 0}}, 'model_name': 'gpt-4o-mini-2024-07-18', 'system_fingerprint': 'fp_bba3c8e70b', 'finish_reason': 'stop', 'logprobs': None}, id='run-bcc50c9f-3594-4368-a972-1553aaea78ce-0', usage_metadata={'input_tokens': 689, 'output_tokens': 192, 'total_tokens': 881, 'input_token_details': {'audio': 0, 'cache_read': 0}, 'output_token_details': {'audio': 0, 'reasoning': 0}}), HumanMessage(content='너 내 이름을 아직 기억하고 있니?', additional_kwargs={}, response_metadata={}, id='2d87acaf-91d7-4727-858c-94f5fed3b689')]\n",
      "==================================\u001b[1m Ai Message \u001b[0m==================================\n",
      "\n",
      "네, 피노키오님! 당신의 이름을 기억하고 있습니다. 다른 질문이나 도움이 필요하신 것이 있으면 말씀해 주세요!\n"
     ]
    }
   ],
   "source": [
    "user_input = \"너 내 이름을 아직 기억하고 있니?\"\n",
    "\n",
    "# The config is the **second positional argument** to stream() or invoke()!\n",
    "events = graph.stream(\n",
    "    {\"messages\": [(\"user\", user_input)]}, config, stream_mode=\"values\"\n",
    ")\n",
    "for event in events:\n",
    "    event[\"messages\"][-1].pretty_print()"
   ]
  },
  {
   "cell_type": "code",
   "execution_count": 20,
   "metadata": {},
   "outputs": [
    {
     "name": "stdout",
     "output_type": "stream",
     "text": [
      "================================\u001b[1m Human Message \u001b[0m=================================\n",
      "\n",
      "너 내 이름을 아직 기억하고 있니?\n",
      "[HumanMessage(content='너 내 이름을 아직 기억하고 있니?', additional_kwargs={}, response_metadata={}, id='b9dc9c9b-c424-467a-af9a-5d2964fb3b7b')]\n",
      "==================================\u001b[1m Ai Message \u001b[0m==================================\n",
      "\n",
      "죄송하지만, 이전 대화 내용을 기억할 수 없어요. 당신의 이름을 알려주시면 기억하겠습니다!\n"
     ]
    }
   ],
   "source": [
    "# The only difference is we change the `thread_id` here to \"2\" instead of \"1\"\n",
    "events = graph.stream(\n",
    "    {\"messages\": [(\"user\", user_input)]},\n",
    "    {\"configurable\": {\"thread_id\": \"2\"}},\n",
    "    stream_mode=\"values\",\n",
    ")\n",
    "for event in events:\n",
    "    event[\"messages\"][-1].pretty_print()"
   ]
  },
  {
   "cell_type": "code",
   "execution_count": null,
   "metadata": {},
   "outputs": [],
   "source": []
  }
 ],
 "metadata": {
  "kernelspec": {
   "display_name": ".langchain_venv",
   "language": "python",
   "name": "python3"
  },
  "language_info": {
   "codemirror_mode": {
    "name": "ipython",
    "version": 3
   },
   "file_extension": ".py",
   "mimetype": "text/x-python",
   "name": "python",
   "nbconvert_exporter": "python",
   "pygments_lexer": "ipython3",
   "version": "3.12.5"
  }
 },
 "nbformat": 4,
 "nbformat_minor": 2
}
