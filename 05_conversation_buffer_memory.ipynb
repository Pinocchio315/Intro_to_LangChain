{
 "cells": [
  {
   "cell_type": "code",
   "execution_count": 1,
   "metadata": {},
   "outputs": [],
   "source": [
    "import os\n",
    "\n",
    "from openai import OpenAI\n",
    "from dotenv import find_dotenv, load_dotenv\n",
    "\n",
    "load_dotenv(find_dotenv())\n",
    "\n",
    "client = OpenAI(\n",
    "    api_key=os.getenv(\"OPENAI_API_KEY\"),\n",
    ")"
   ]
  },
  {
   "cell_type": "code",
   "execution_count": 2,
   "metadata": {},
   "outputs": [],
   "source": [
    "from langchain_openai import ChatOpenAI\n",
    "from langchain_core.prompts import ChatPromptTemplate\n",
    "\n",
    "llm_model = 'gpt-4o-mini'\n",
    "chat_model = ChatOpenAI(temperature=0.0, model=llm_model)"
   ]
  },
  {
   "cell_type": "code",
   "execution_count": 6,
   "metadata": {},
   "outputs": [
    {
     "name": "stdout",
     "output_type": "stream",
     "text": [
      "안녕하세요, 홍길동님! 저는 AI 언어 모델이라 이름이 없지만, 여러분과 대화하는 것을 즐깁니다. 어떻게 도와드릴까요?\n"
     ]
    }
   ],
   "source": [
    "response = chat_model.invoke(\"내 이름은 홍길동이야. 네 이름은 뭐니?\").content\n",
    "print(response)"
   ]
  },
  {
   "cell_type": "code",
   "execution_count": 7,
   "metadata": {},
   "outputs": [
    {
     "name": "stdout",
     "output_type": "stream",
     "text": [
      "죄송하지만, 저는 이전 대화 내용을 기억할 수 없어요. 당신의 이름을 알려주시면 그에 맞춰 대화할 수 있습니다!\n"
     ]
    }
   ],
   "source": [
    "response = chat_model.invoke(\"그렇구나. 내 이름을 기억하고 있니?\").content\n",
    "print(response)"
   ]
  },
  {
   "cell_type": "code",
   "execution_count": 10,
   "metadata": {},
   "outputs": [
    {
     "name": "stdout",
     "output_type": "stream",
     "text": [
      "Memory ===> Human: 안녕, 내 이름은 홍길동이야\n",
      "AI: 안녕, 홍길동! 만나서 반가워! 나는 AI야. 오늘 기분이 어때? 혹시 궁금한 것이나 이야기하고 싶은 주제가 있어?\n",
      "Human: 하늘은 왜 파란 색일까?\n",
      "AI: 하늘이 파란 색인 이유는 대기 중의 산란 현상 때문이야. 태양빛은 여러 색의 빛으로 이루어져 있는데, 이 중 파란색 빛은 다른 색에 비해 파장이 짧아서 대기 중의 분자와 더 많이 산란돼. 그래서 우리가 하늘을 바라볼 때, 파란색이 더 많이 보이게 되는 거야. 이 현상을 '레이리 산란'이라고 부르기도 해. 혹시 더 궁금한 점이 있거나 다른 주제에 대해 이야기하고 싶어?\n",
      "Human: 만약에 레일리 산란현상이 없다면 하늘은 무슨 색으로 보일까?\n",
      "AI: 만약 레일리 산란 현상이 없다면, 하늘은 아마도 검은색이나 어두운 색으로 보일 거야. 레일리 산란이 없으면 태양빛이 대기를 통과할 때 산란되지 않아서, 하늘의 색이 태양의 색과 비슷하게 보일 가능성이 높아. 즉, 태양이 떠 있는 동안에도 하늘은 어두운 색으로 보일 수 있어. 이 경우, 낮에도 별들이 보일 수 있는 상황이 될 수도 있겠지. 이런 상상을 해보니 흥미롭지? 다른 질문이나 궁금한 점이 있다면 언제든지 말해줘!\n",
      "Human: 내 이름을 기억하고 있니?\n",
      "AI: 네, 홍길동! 당신의 이름을 기억하고 있어요. 당신과의 대화가 정말 즐거워요. 다른 질문이나 이야기하고 싶은 주제가 있다면 언제든지 말씀해 주세요! <====\n"
     ]
    }
   ],
   "source": [
    "from langchain.chains import ConversationChain\n",
    "from langchain.memory import ConversationBufferMemory\n",
    "\n",
    "memory = ConversationBufferMemory()\n",
    "conversation = ConversationChain(\n",
    "    llm=chat_model,\n",
    "    memory=memory\n",
    ")\n",
    "\n",
    "conversation.invoke(input=\"안녕, 내 이름은 홍길동이야\")\n",
    "conversation.invoke(input=\"하늘은 왜 파란 색일까?\")\n",
    "conversation.invoke(input=\"만약에 레일리 산란현상이 없다면 하늘은 무슨 색으로 보일까?\")\n",
    "conversation.invoke(input=\"내 이름을 기억하고 있니?\")\n",
    "\n",
    "\n",
    "print(f\"Memory ===> {memory.buffer} <====\")"
   ]
  },
  {
   "cell_type": "code",
   "execution_count": null,
   "metadata": {},
   "outputs": [],
   "source": []
  }
 ],
 "metadata": {
  "kernelspec": {
   "display_name": ".langchain_venv",
   "language": "python",
   "name": "python3"
  },
  "language_info": {
   "codemirror_mode": {
    "name": "ipython",
    "version": 3
   },
   "file_extension": ".py",
   "mimetype": "text/x-python",
   "name": "python",
   "nbconvert_exporter": "python",
   "pygments_lexer": "ipython3",
   "version": "3.12.5"
  }
 },
 "nbformat": 4,
 "nbformat_minor": 2
}
