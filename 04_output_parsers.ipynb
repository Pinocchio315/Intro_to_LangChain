{
 "cells": [
  {
   "cell_type": "code",
   "execution_count": 1,
   "metadata": {},
   "outputs": [],
   "source": [
    "import os\n",
    "\n",
    "from openai import OpenAI\n",
    "from dotenv import find_dotenv, load_dotenv\n",
    "\n",
    "load_dotenv(find_dotenv())\n",
    "\n",
    "client = OpenAI(\n",
    "    api_key=os.getenv(\"OPENAI_API_KEY\"),\n",
    ")"
   ]
  },
  {
   "cell_type": "code",
   "execution_count": null,
   "metadata": {},
   "outputs": [],
   "source": [
    "from langchain_openai import ChatOpenAI\n",
    "from langchain_core.prompts import ChatPromptTemplate\n",
    "\n",
    "llm_model = 'gpt-4o-mini'\n",
    "chat_model = ChatOpenAI(temperature=0.0, model=llm_model)"
   ]
  },
  {
   "cell_type": "markdown",
   "metadata": {},
   "source": [
    "## Using Prompt Template"
   ]
  },
  {
   "cell_type": "code",
   "execution_count": 4,
   "metadata": {},
   "outputs": [],
   "source": [
    "email_response = \"\"\"\n",
    "Here's our itinerary for our upcoming trip to Europe.\n",
    "We leave from Denver, Colorado airport at 8:45 pm, and arrive in Amsterdam 10 hours later\n",
    "at Schipol Airport.\n",
    "We'll grab a ride to our airbnb and maybe stop somewhere for breakfast before \n",
    "taking a nap.\n",
    "\n",
    "Some sightseeing will follow for a couple of hours. \n",
    "We will then go shop for gifts \n",
    "to bring back to our children and friends.  \n",
    "\n",
    "The next morning, at 7:45am we'll drive to to Belgium, Brussels - it should only take aroud 3 hours.\n",
    "While in Brussels we want to explore the city to its fullest - no rock left unturned!\n",
    "\n",
    "\"\"\"\n",
    "\n",
    "email_template = \"\"\"\n",
    "From the following email, extract the following information:\n",
    "\n",
    "leave_time: when are they leaving for vacation to Europe. If there's an actual\n",
    "time written, use it, if not write unknown.\n",
    "\n",
    "leave_from: where are they leaving from, the airport or city name and state if\n",
    "available.\n",
    "\n",
    "cities_to_visit: extract the cities they are going to visit. \n",
    "If there are more than one, put them in square brackets like '[\"cityone\", \"citytwo\"].\n",
    "\n",
    "Format the output as JSON with the following keys:\n",
    "leave_time\n",
    "leave_from\n",
    "cities_to_visit\n",
    "\n",
    "email: {email}\n",
    "\"\"\""
   ]
  },
  {
   "cell_type": "code",
   "execution_count": 5,
   "metadata": {},
   "outputs": [
    {
     "name": "stdout",
     "output_type": "stream",
     "text": [
      "```json\n",
      "{\n",
      "  \"leave_time\": \"8:45 pm\",\n",
      "  \"leave_from\": \"Denver, Colorado airport\",\n",
      "  \"cities_to_visit\": [\"Amsterdam\", \"Brussels\"]\n",
      "}\n",
      "```\n"
     ]
    }
   ],
   "source": [
    "prompt_template = ChatPromptTemplate.from_template(email_template)\n",
    "messages = prompt_template.format_messages(email=email_response)\n",
    "\n",
    "response = chat_model.invoke(messages)\n",
    "print(response.content)"
   ]
  },
  {
   "cell_type": "markdown",
   "metadata": {},
   "source": [
    "## Pydantic Parser"
   ]
  },
  {
   "cell_type": "code",
   "execution_count": null,
   "metadata": {},
   "outputs": [],
   "source": [
    "from langchain_core.output_parsers import PydanticOutputParser\n",
    "from pydantic import BaseModel, Field, model_validator\n",
    "from typing import List\n",
    "\n",
    "# Define desired data structure\n",
    "class VacationInfo(BaseModel):\n",
    "    leave_time: str = Field(description=\"When they are leaving. It's usually\")\n",
    "    leave_from: str = Field(description=\"Where are they leaving from.\\\n",
    "                                          it's a city, airport or state, or province\")\n",
    "    cities_to_visit: List = Field(description=\"The cities, towns they will be visiting on \\\n",
    "                                        their trip. This needs to be in a list\")\n",
    "    num_people: int = Field(description=\"this is an integer for a number of people on this trip\")\n",
    "    \n",
    "\n",
    "pydantic_parser = PydanticOutputParser(pydantic_object=VacationInfo)\n",
    "format_instructions = pydantic_parser.get_format_instructions()"
   ]
  },
  {
   "cell_type": "code",
   "execution_count": 9,
   "metadata": {},
   "outputs": [],
   "source": [
    "email_template_revised = \"\"\"\n",
    "From the following email, extract the following information regarding \n",
    "this trip.\n",
    "\n",
    "email: {email}\n",
    "\n",
    "{format_instructions}\n",
    "\"\"\""
   ]
  },
  {
   "cell_type": "code",
   "execution_count": 10,
   "metadata": {},
   "outputs": [],
   "source": [
    "updated_prompt = ChatPromptTemplate.from_template(template=email_template_revised)\n",
    "meassages = updated_prompt.format_messages(email=email_response,\n",
    "                                           format_instructions=format_instructions)"
   ]
  },
  {
   "cell_type": "code",
   "execution_count": 11,
   "metadata": {},
   "outputs": [
    {
     "name": "stdout",
     "output_type": "stream",
     "text": [
      "```json\n",
      "{\n",
      "  \"leave_time\": \"8:45 pm\",\n",
      "  \"leave_from\": \"Denver, Colorado airport\",\n",
      "  \"cities_to_visit\": [\"Amsterdam\", \"Brussels\"]\n",
      "}\n",
      "```\n"
     ]
    }
   ],
   "source": [
    "response = chat_model.invoke(messages)\n",
    "print(response.content)"
   ]
  },
  {
   "cell_type": "code",
   "execution_count": null,
   "metadata": {},
   "outputs": [],
   "source": []
  }
 ],
 "metadata": {
  "kernelspec": {
   "display_name": ".langchain_venv",
   "language": "python",
   "name": "python3"
  },
  "language_info": {
   "codemirror_mode": {
    "name": "ipython",
    "version": 3
   },
   "file_extension": ".py",
   "mimetype": "text/x-python",
   "name": "python",
   "nbconvert_exporter": "python",
   "pygments_lexer": "ipython3",
   "version": "3.12.5"
  }
 },
 "nbformat": 4,
 "nbformat_minor": 2
}
