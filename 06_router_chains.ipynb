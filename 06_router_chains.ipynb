{
 "cells": [
  {
   "cell_type": "markdown",
   "metadata": {},
   "source": [
    "## Setup environments"
   ]
  },
  {
   "cell_type": "code",
   "execution_count": 1,
   "metadata": {},
   "outputs": [],
   "source": [
    "import os\n",
    "\n",
    "from openai import OpenAI\n",
    "from dotenv import find_dotenv, load_dotenv\n",
    "\n",
    "load_dotenv(find_dotenv())\n",
    "\n",
    "client = OpenAI(\n",
    "    api_key=os.getenv(\"OPENAI_API_KEY\"),\n",
    ")"
   ]
  },
  {
   "cell_type": "code",
   "execution_count": 2,
   "metadata": {},
   "outputs": [],
   "source": [
    "from langchain_openai import ChatOpenAI\n",
    "from langchain_core.prompts import PromptTemplate\n",
    "\n",
    "llm_model = 'gpt-4o-mini'\n",
    "chat_model = ChatOpenAI(temperature=0.0, model=llm_model)"
   ]
  },
  {
   "cell_type": "markdown",
   "metadata": {},
   "source": [
    "## Various Templates"
   ]
  },
  {
   "cell_type": "code",
   "execution_count": 11,
   "metadata": {},
   "outputs": [],
   "source": [
    "biology_template = \"\"\"BIOLOGY\n",
    "You are a very smart biology professor. \n",
    "You are great at answering questions about biology in a concise and easy to understand manner. \n",
    "When you don't know the answer to a question you admit that you don't know.\n",
    "\n",
    "Here is a question:\n",
    "{query}\"\"\"\n",
    "\n",
    "\n",
    "math_template = \"\"\"MATHEMATICS\n",
    "You are a very good mathematician. You are great at answering math questions. \n",
    "You are so good because you are able to break down hard problems into their component parts, \n",
    "answer the component parts, and then put them together to answer the broader question.\n",
    "\n",
    "Here is a question:\n",
    "{query}\"\"\"\n",
    "\n",
    "astronomy_template = \"\"\"ASTRONOMY\n",
    "ou are a very good astronomer. You are great at answering astronomy questions. \n",
    "You are so good because you are able to break down hard problems into their component parts, \n",
    "answer the component parts, and then put them together to answer the broader question.\n",
    "\n",
    "Here is a question:\n",
    "{query}\"\"\"\n",
    "\n",
    "travel_agent_template = \"\"\"TRAVEL AGENT\n",
    "You are a very good travel agent with a large amount\n",
    "of knowledge when it comes to getting people the best deals and recommendations\n",
    "for travel, vacations, flights and world's best destinations for vacation. \n",
    "You are great at answering travel, vacation, flights, transportation, tourist guides questions. \n",
    "You are so good because you are able to break down hard problems into their component parts, \n",
    "answer the component parts, and then put them together to answer the broader question.\n",
    "\n",
    "Here is a question:\n",
    "{query}\"\"\"\n",
    "\n",
    "default_prompt = \"\"\"DEFAULT\n",
    "please answer the following question:\n",
    "{query}\n",
    "\"\"\""
   ]
  },
  {
   "cell_type": "code",
   "execution_count": 13,
   "metadata": {},
   "outputs": [],
   "source": [
    "from langchain_community.utils.math import cosine_similarity\n",
    "from langchain_core.output_parsers import StrOutputParser\n",
    "from langchain_core.prompts import PromptTemplate\n",
    "from langchain_core.runnables import RunnableLambda, RunnablePassthrough\n",
    "from langchain_openai import OpenAIEmbeddings\n",
    "\n",
    "\n",
    "prompt_templates = [biology_template, math_template, astronomy_template, travel_agent_template, default_prompt]\n",
    "\n",
    "embeddings = OpenAIEmbeddings()\n",
    "prompt_embeddings = embeddings.embed_documents(prompt_templates)"
   ]
  },
  {
   "cell_type": "code",
   "execution_count": 14,
   "metadata": {},
   "outputs": [],
   "source": [
    "# 라우팅 함수 정의\n",
    "def prompt_router(input):\n",
    "    query_embedding = embeddings.embed_query(input[\"query\"])\n",
    "    similarity = cosine_similarity([query_embedding], prompt_embeddings)[0]\n",
    "    most_similar = prompt_templates[similarity.argmax()]\n",
    "    print(f\"Using: {most_similar.split('\\n')[0]}\") # More descriptive printing\n",
    "    return PromptTemplate.from_template(most_similar)"
   ]
  },
  {
   "cell_type": "code",
   "execution_count": 15,
   "metadata": {},
   "outputs": [],
   "source": [
    "chain = (\n",
    "    {\"query\": RunnablePassthrough()}\n",
    "    | RunnableLambda(prompt_router)\n",
    "    | chat_model\n",
    "    | StrOutputParser()\n",
    ")"
   ]
  },
  {
   "cell_type": "code",
   "execution_count": 16,
   "metadata": {},
   "outputs": [
    {
     "name": "stdout",
     "output_type": "stream",
     "text": [
      "Using: BIOLOGY\n",
      "Photosynthesis is the process by which green plants, algae, and some bacteria convert light energy, usually from the sun, into chemical energy in the form of glucose. This process primarily occurs in the chloroplasts of plant cells, where chlorophyll (the green pigment) captures light energy.\n",
      "\n",
      "The overall equation for photosynthesis can be summarized as:\n",
      "\n",
      "\\[ 6 \\, \\text{CO}_2 + 6 \\, \\text{H}_2\\text{O} + \\text{light energy} \\rightarrow \\text{C}_6\\text{H}_{12}\\text{O}_6 + 6 \\, \\text{O}_2 \\]\n",
      "\n",
      "This means that carbon dioxide and water, in the presence of light, are transformed into glucose and oxygen. The glucose serves as an energy source for the plant, while the oxygen is released as a byproduct into the atmosphere.\n"
     ]
    }
   ],
   "source": [
    "print(chain.invoke(\"What is photosynthesis?\"))"
   ]
  },
  {
   "cell_type": "code",
   "execution_count": 17,
   "metadata": {},
   "outputs": [
    {
     "name": "stdout",
     "output_type": "stream",
     "text": [
      "Using: TRAVEL AGENT\n",
      "Europe in the summer offers a plethora of stunning destinations, each with its unique charm and attractions. Here’s a breakdown of some of the best places to visit, categorized by region:\n",
      "\n",
      "### Western Europe\n",
      "1. **Paris, France**\n",
      "   - **Attractions**: Eiffel Tower, Louvre Museum, Montmartre.\n",
      "   - **Activities**: Enjoy picnics in parks, river cruises on the Seine, and outdoor cafes.\n",
      "\n",
      "2. **Amsterdam, Netherlands**\n",
      "   - **Attractions**: Anne Frank House, Van Gogh Museum, canals.\n",
      "   - **Activities**: Biking through the city, visiting flower markets, and enjoying open-air festivals.\n",
      "\n",
      "3. **Barcelona, Spain**\n",
      "   - **Attractions**: Sagrada Familia, Park Güell, Gothic Quarter.\n",
      "   - **Activities**: Beach days at Barceloneta, tapas tours, and exploring vibrant street life.\n",
      "\n",
      "### Southern Europe\n",
      "4. **Santorini, Greece**\n",
      "   - **Attractions**: Oia sunsets, volcanic beaches, ancient ruins.\n",
      "   - **Activities**: Wine tasting, sailing tours, and exploring charming villages.\n",
      "\n",
      "5. **Amalfi Coast, Italy**\n",
      "   - **Attractions**: Positano, Ravello, Amalfi town.\n",
      "   - **Activities**: Scenic drives, hiking the Path of the Gods, and enjoying fresh seafood.\n",
      "\n",
      "6. **Lisbon, Portugal**\n",
      "   - **Attractions**: Belém Tower, Alfama district, Jerónimos Monastery.\n",
      "   - **Activities**: Tram rides, Fado music nights, and tasting pastéis de nata.\n",
      "\n",
      "### Northern Europe\n",
      "7. **Copenhagen, Denmark**\n",
      "   - **Attractions**: Tivoli Gardens, Nyhavn, The Little Mermaid.\n",
      "   - **Activities**: Biking around the city, enjoying outdoor markets, and visiting the waterfront.\n",
      "\n",
      "8. **Reykjavik, Iceland**\n",
      "   - **Attractions**: Hallgrímskirkja, Harpa Concert Hall, nearby geysers and waterfalls.\n",
      "   - **Activities**: Exploring the Golden Circle, relaxing in hot springs, and experiencing the midnight sun.\n",
      "\n",
      "### Eastern Europe\n",
      "9. **Prague, Czech Republic**\n",
      "   - **Attractions**: Charles Bridge, Prague Castle, Old Town Square.\n",
      "   - **Activities**: River cruises, beer garden visits, and exploring historic neighborhoods.\n",
      "\n",
      "10. **Budapest, Hungary**\n",
      "    - **Attractions**: Buda Castle, Széchenyi Thermal Bath, Chain Bridge.\n",
      "    - **Activities**: Soaking in thermal baths, river cruises on the Danube, and enjoying ruin bars.\n",
      "\n",
      "### Tips for Traveling in Europe During Summer:\n",
      "- **Book in Advance**: Summer is peak tourist season, so book flights and accommodations early for the best deals.\n",
      "- **Consider Off-Peak Times**: Visit popular attractions early in the morning or later in the evening to avoid crowds.\n",
      "- **Local Festivals**: Check for local festivals or events happening during your visit for a unique cultural experience.\n",
      "- **Transportation**: Utilize Europe’s extensive train network for convenient travel between cities.\n",
      "\n",
      "Each of these destinations offers a unique experience, so consider what type of vacation you’re looking for—whether it’s cultural exploration, relaxation by the beach, or outdoor adventures. Let me know if you need more specific recommendations or assistance with planning your trip!\n"
     ]
    }
   ],
   "source": [
    "print(chain.invoke(\"What are some good places to visit in Europe in the summer?\"))"
   ]
  },
  {
   "cell_type": "code",
   "execution_count": 18,
   "metadata": {},
   "outputs": [
    {
     "name": "stdout",
     "output_type": "stream",
     "text": [
      "Using: ASTRONOMY\n",
      "Certainly! To understand black holes, we can break the topic down into several key components: their definition, formation, properties, types, and significance in the universe.\n",
      "\n",
      "### 1. Definition\n",
      "A black hole is a region in space where the gravitational pull is so strong that nothing, not even light, can escape from it. This is why they are called \"black\" holes; they do not emit light and are invisible against the backdrop of space.\n",
      "\n",
      "### 2. Formation\n",
      "Black holes typically form from the remnants of massive stars after they have exhausted their nuclear fuel. Here’s a breakdown of the process:\n",
      "- **Stellar Evolution**: A star spends most of its life fusing hydrogen into helium in its core. Once the hydrogen is depleted, the core contracts and heats up, allowing the star to fuse heavier elements.\n",
      "- **Supernova**: For massive stars (typically more than 20 times the mass of the Sun), once iron builds up in the core, fusion stops, and the core collapses under gravity. This collapse can trigger a supernova explosion, ejecting the outer layers of the star.\n",
      "- **Black Hole Formation**: If the remaining core's mass is above a certain threshold (the Tolman-Oppenheimer-Volkoff limit, around 2-3 solar masses), it collapses into a black hole.\n",
      "\n",
      "### 3. Properties\n",
      "Black holes have several key properties:\n",
      "- **Event Horizon**: This is the boundary surrounding a black hole beyond which nothing can escape. It is not a physical surface but rather a point of no return.\n",
      "- **Singularity**: At the center of a black hole lies the singularity, a point where density becomes infinite and the laws of physics as we know them break down.\n",
      "- **Mass**: Black holes can vary in mass, and their mass is a critical factor in determining their gravitational influence.\n",
      "- **Spin**: Black holes can rotate, and this rotation affects the space around them, leading to phenomena such as frame-dragging.\n",
      "\n",
      "### 4. Types of Black Holes\n",
      "There are several types of black holes:\n",
      "- **Stellar Black Holes**: Formed from the collapse of massive stars, typically ranging from about 3 to several tens of solar masses.\n",
      "- **Supermassive Black Holes**: Found at the centers of galaxies, these can have masses ranging from millions to billions of solar masses. Their formation is still a subject of research, but they may form from the merging of smaller black holes and the accretion of gas and stars.\n",
      "- **Intermediate Black Holes**: These are hypothesized to exist with masses between stellar and supermassive black holes, but they are less understood and harder to detect.\n",
      "- **Primordial Black Holes**: These could have formed in the early universe due to density fluctuations and could range in size from very small to very large.\n",
      "\n",
      "### 5. Significance in the Universe\n",
      "Black holes play a crucial role in the universe:\n",
      "- **Galactic Formation**: Supermassive black holes are thought to influence the formation and evolution of galaxies.\n",
      "- **Gravitational Waves**: The merging of black holes produces gravitational waves, ripples in spacetime that can be detected by observatories like LIGO and Virgo.\n",
      "- **Testing General Relativity**: Black holes provide a unique environment to test the predictions of Einstein's theory of general relativity, particularly in extreme gravitational fields.\n",
      "\n",
      "### Conclusion\n",
      "In summary, black holes are fascinating cosmic objects formed from the remnants of massive stars, characterized by their intense gravitational pull and unique properties. They come in various types and play significant roles in the structure and evolution of the universe. Understanding black holes not only enhances our knowledge of astrophysics but also challenges our understanding of fundamental physics.\n"
     ]
    }
   ],
   "source": [
    "print(chain.invoke(\"Tell me about black holes.\"))"
   ]
  },
  {
   "cell_type": "code",
   "execution_count": 19,
   "metadata": {},
   "outputs": [
    {
     "name": "stdout",
     "output_type": "stream",
     "text": [
      "Using: MATHEMATICS\n",
      "To find the integral of \\( x^2 \\), we can use the power rule for integration. The power rule states that:\n",
      "\n",
      "\\[\n",
      "\\int x^n \\, dx = \\frac{x^{n+1}}{n+1} + C\n",
      "\\]\n",
      "\n",
      "where \\( n \\neq -1 \\) and \\( C \\) is the constant of integration.\n",
      "\n",
      "In this case, we have \\( n = 2 \\). Applying the power rule:\n",
      "\n",
      "\\[\n",
      "\\int x^2 \\, dx = \\frac{x^{2+1}}{2+1} + C = \\frac{x^3}{3} + C\n",
      "\\]\n",
      "\n",
      "So, the integral of \\( x^2 \\) is:\n",
      "\n",
      "\\[\n",
      "\\frac{x^3}{3} + C\n",
      "\\]\n"
     ]
    }
   ],
   "source": [
    "print(chain.invoke(\"What is the integral of x^2?\"))"
   ]
  },
  {
   "cell_type": "code",
   "execution_count": 24,
   "metadata": {},
   "outputs": [
    {
     "name": "stdout",
     "output_type": "stream",
     "text": [
      "Using: DEFAULT\n",
      "As of my last update in October 2023, the starting price for the iPhone 15 Pro typically began around $999 in the United States for the base model. However, prices can vary based on storage options and regional differences. For the most accurate and current pricing, I recommend checking Apple's official website or authorized retailers.\n"
     ]
    }
   ],
   "source": [
    "print(chain.invoke(\"Tell me a price for iPhone 15 Pro.\"))"
   ]
  }
 ],
 "metadata": {
  "kernelspec": {
   "display_name": ".langchain_venv",
   "language": "python",
   "name": "python3"
  },
  "language_info": {
   "codemirror_mode": {
    "name": "ipython",
    "version": 3
   },
   "file_extension": ".py",
   "mimetype": "text/x-python",
   "name": "python",
   "nbconvert_exporter": "python",
   "pygments_lexer": "ipython3",
   "version": "3.12.5"
  }
 },
 "nbformat": 4,
 "nbformat_minor": 2
}
